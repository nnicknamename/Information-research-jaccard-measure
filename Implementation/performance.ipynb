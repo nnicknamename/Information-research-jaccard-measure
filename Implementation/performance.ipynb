{
 "cells": [
  {
   "cell_type": "code",
   "execution_count": 1,
   "metadata": {},
   "outputs": [],
   "source": [
    "import pandas as pd \n",
    "from Data import *\n",
    "import numpy as np"
   ]
  },
  {
   "cell_type": "code",
   "execution_count": 5,
   "metadata": {},
   "outputs": [],
   "source": [
    "class Indexer_performance():\n",
    "    def __init__(self,indexer,queryCorpus,query_res_file:str) -> None:\n",
    "        self.indexer=indexer\n",
    "        self.queryCorpus=queryCorpus\n",
    "        self.query_res_file=query_res_file\n",
    "        self.Gt_mat=self.get_query_Gt(self.query_res_file)\n",
    "    def get_query_Gt(self,query_res_file):\n",
    "        file=open(query_res_file,'r')\n",
    "        res=np.zeros((225,1400))\n",
    "        for line in file.readlines():\n",
    "            line=line.replace(' ',' ').split(' ')\n",
    "            res[int(line[0])-1,int(line[1])-1]=1\n",
    "        return res\n",
    "\n",
    "    def get_query_results(self,queryCorpus,thresh,method):\n",
    "        res=np.zeros((225,1400))\n",
    "        for i,query in enumerate(queryCorpus):\n",
    "            res[i,self.indexer.get_documents_for_query(query['text'],thresh,method)]=1\n",
    "        return res\n",
    "\n",
    "    def get_precision_recall(self,thresh,method='jaccard'):\n",
    "        doc=self.get_query_results(self.queryCorpus,thresh,method)\n",
    "        recall=sum(np.sum(doc*self.Gt_mat,axis=1)/np.sum(self.Gt_mat,axis=1))*100/225\n",
    "        precision=sum(np.sum(doc*self.Gt_mat,axis=1)/np.sum(doc,axis=1))*100/225\n",
    "        return precision,recall"
   ]
  },
  {
   "cell_type": "code",
   "execution_count": 6,
   "metadata": {},
   "outputs": [],
   "source": [
    "indexer=Indexer(file_name='C:/Users/pc/Documents/programming/RI_TP/Implementation/indexer01.pkl')\n",
    "queryCorpus=CranQueryCorpus(\"C:/Users/pc/Documents/programming/RI_TP/Datasets/Cran/cran.qry\")"
   ]
  },
  {
   "cell_type": "code",
   "execution_count": 10,
   "metadata": {},
   "outputs": [],
   "source": [
    "#indexer.save('indexer01.pkl')"
   ]
  },
  {
   "cell_type": "code",
   "execution_count": 7,
   "metadata": {},
   "outputs": [],
   "source": [
    "id_performance=Indexer_performance(indexer,queryCorpus,'C:/Users/pc/Documents/programming/RI_TP/Datasets/Cran/cranqrel')"
   ]
  },
  {
   "cell_type": "code",
   "execution_count": 17,
   "metadata": {},
   "outputs": [
    {
     "data": {
      "text/plain": [
       "(20.26769832490872, 58.266903341252636)"
      ]
     },
     "execution_count": 17,
     "metadata": {},
     "output_type": "execute_result"
    }
   ],
   "source": [
    "id_performance.get_precision_recall(0.132,method='Dice')"
   ]
  },
  {
   "cell_type": "markdown",
   "metadata": {},
   "source": [
    "Stemming with no lemmatization :(20.215267394365846, 58.266903341252636)\n",
    "\n",
    "lemmatization no stemming :(14.004963636767473, 64.10063417182562)\n",
    "\n",
    "Stemming and lemmatization :(19.929313146423933, 59.04080104848369)"
   ]
  },
  {
   "cell_type": "code",
   "execution_count": null,
   "metadata": {},
   "outputs": [],
   "source": []
  },
  {
   "cell_type": "code",
   "execution_count": 236,
   "metadata": {},
   "outputs": [],
   "source": [
    "doc=id_performance.get_query_results(id_performance.queryCorpus)"
   ]
  },
  {
   "cell_type": "code",
   "execution_count": 229,
   "metadata": {},
   "outputs": [
    {
     "data": {
      "text/plain": [
       "'.I 365\\n.W\\nwhat design factors can be used to control lift-drag ratios at mach\\nnumbers above 5 . \\n'"
      ]
     },
     "execution_count": 229,
     "metadata": {},
     "output_type": "execute_result"
    }
   ],
   "source": [
    "queryCorpus.get_raw_docs()[224]"
   ]
  },
  {
   "cell_type": "code",
   "execution_count": 170,
   "metadata": {},
   "outputs": [
    {
     "data": {
      "text/plain": [
       "(array([ 11,  12,  13,  14,  28,  29,  30,  36,  50,  51,  55,  56,  65,\n",
       "         94, 101, 141, 183, 184, 194, 377, 461, 485, 496, 857, 858, 874,\n",
       "        875, 878, 879], dtype=int64),)"
      ]
     },
     "execution_count": 170,
     "metadata": {},
     "output_type": "execute_result"
    }
   ],
   "source": [
    "np.where(id_performance.Gt_mat[0]==1)"
   ]
  },
  {
   "cell_type": "code",
   "execution_count": 193,
   "metadata": {},
   "outputs": [
    {
     "data": {
      "text/plain": [
       "0.0"
      ]
     },
     "execution_count": 193,
     "metadata": {},
     "output_type": "execute_result"
    }
   ],
   "source": [
    "doc[224].max()"
   ]
  },
  {
   "cell_type": "code",
   "execution_count": 237,
   "metadata": {},
   "outputs": [
    {
     "data": {
      "text/plain": [
       "array([False, False, False, False, False, False, False, False, False,\n",
       "       False, False, False, False, False, False, False, False, False,\n",
       "       False, False, False, False, False, False, False, False, False,\n",
       "       False, False, False, False, False, False, False, False, False,\n",
       "       False, False, False, False, False, False, False, False, False,\n",
       "       False, False, False, False, False, False, False, False, False,\n",
       "       False, False, False, False, False, False, False, False, False,\n",
       "       False, False, False, False, False, False, False, False, False,\n",
       "       False, False, False, False, False, False, False, False, False,\n",
       "       False, False, False, False, False, False, False, False, False,\n",
       "       False, False, False, False, False, False, False, False, False,\n",
       "       False, False, False, False, False, False, False, False, False,\n",
       "       False, False, False, False, False, False, False, False, False,\n",
       "       False, False, False, False, False, False, False, False, False,\n",
       "       False, False, False, False, False, False, False, False, False,\n",
       "       False, False, False, False, False, False, False, False, False,\n",
       "       False, False, False, False, False, False, False, False, False,\n",
       "       False, False, False, False, False, False, False, False, False,\n",
       "       False, False, False, False, False, False, False, False, False,\n",
       "       False, False, False, False, False, False, False, False, False,\n",
       "       False, False, False, False, False, False, False, False, False,\n",
       "       False, False, False, False, False, False, False, False, False,\n",
       "       False, False, False, False, False, False, False, False, False,\n",
       "       False, False, False, False, False, False, False, False, False,\n",
       "       False, False, False, False, False, False, False, False, False])"
      ]
     },
     "execution_count": 237,
     "metadata": {},
     "output_type": "execute_result"
    }
   ],
   "source": [
    "np.sum(doc,axis=1)==0"
   ]
  },
  {
   "cell_type": "code",
   "execution_count": 238,
   "metadata": {},
   "outputs": [
    {
     "data": {
      "text/plain": [
       "70.09893620319477"
      ]
     },
     "execution_count": 238,
     "metadata": {},
     "output_type": "execute_result"
    }
   ],
   "source": [
    "sum(np.sum(doc*id_performance.Gt_mat,axis=1)/np.sum(id_performance.Gt_mat,axis=1))*100/225"
   ]
  },
  {
   "cell_type": "code",
   "execution_count": 239,
   "metadata": {},
   "outputs": [
    {
     "data": {
      "text/plain": [
       "12.237244148954323"
      ]
     },
     "execution_count": 239,
     "metadata": {},
     "output_type": "execute_result"
    }
   ],
   "source": [
    "sum(np.sum(doc*id_performance.Gt_mat,axis=1)/np.sum(doc,axis=1))*100/225"
   ]
  },
  {
   "cell_type": "code",
   "execution_count": null,
   "metadata": {},
   "outputs": [],
   "source": []
  }
 ],
 "metadata": {
  "kernelspec": {
   "display_name": "Python 3.10.5 64-bit",
   "language": "python",
   "name": "python3"
  },
  "language_info": {
   "codemirror_mode": {
    "name": "ipython",
    "version": 3
   },
   "file_extension": ".py",
   "mimetype": "text/x-python",
   "name": "python",
   "nbconvert_exporter": "python",
   "pygments_lexer": "ipython3",
   "version": "3.10.5"
  },
  "orig_nbformat": 4,
  "vscode": {
   "interpreter": {
    "hash": "67e0cbc25fa4f5baaacba1240f401bc655b640f8e15cfc935dfee2e63491bdf4"
   }
  }
 },
 "nbformat": 4,
 "nbformat_minor": 2
}
