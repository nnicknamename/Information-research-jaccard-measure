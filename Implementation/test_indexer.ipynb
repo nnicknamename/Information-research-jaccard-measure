{
 "cells": [
  {
   "cell_type": "code",
   "execution_count": 1,
   "metadata": {},
   "outputs": [],
   "source": [
    "from Data import *\n",
    "import numpy as np\n",
    "import pandas as pd\n",
    "import re\n",
    "import spacy\n"
   ]
  },
  {
   "cell_type": "code",
   "execution_count": 4,
   "metadata": {},
   "outputs": [],
   "source": [
    "coll=Database('kxZgDBEwIHkoo9Jd').get_collection('carn')"
   ]
  },
  {
   "cell_type": "code",
   "execution_count": 30,
   "metadata": {},
   "outputs": [
    {
     "data": {
      "text/plain": [
       "{'_id': ObjectId('6350690bcb07d30fb9f076c0'),\n",
       " 'idx': 1,\n",
       " 'title': 'experimental investigation of the aerodynamics of awing in a slipstream .',\n",
       " 'author': 'brenckman,m.',\n",
       " 'bib': 'j. ae. scs. 25, 1958, 324.',\n",
       " 'text': 'experimental investigation of the aerodynamics of awing in a slipstream .  an experimental study of a wing in a propeller slipstream wasmade in order to determine the spanwise distribution of the liftincrease due to slipstream at different angles of attack of the wingand at different free stream to slipstream velocity ratios .  theresults were intended in part as an evaluation basis for differenttheoretical treatments of this problem .  the comparative span loading curves, together withsupporting evidence, showed that a substantial part of the lift incrementproduced by the slipstream was due to a /destalling/ orboundary-layer-control effect .  the integrated remaining liftincrement, after subtracting this destalling lift, was found to agreewell with a potential flow theory .  an empirical evaluation of the destalling effects was made forthe specific configuration of the experiment .'}"
      ]
     },
     "execution_count": 30,
     "metadata": {},
     "output_type": "execute_result"
    }
   ],
   "source": [
    "coll.find({'idx':{'$lt':22}})[0]   "
   ]
  },
  {
   "cell_type": "code",
   "execution_count": 85,
   "metadata": {},
   "outputs": [],
   "source": [
    "from autocorrect import Speller\n",
    "\n",
    "spell = Speller(lang='en')"
   ]
  },
  {
   "cell_type": "code",
   "execution_count": 16,
   "metadata": {},
   "outputs": [
    {
     "name": "stdout",
     "output_type": "stream",
     "text": [
      "found empty document at index  471\n",
      "found empty document at index  995\n"
     ]
    }
   ],
   "source": [
    "corpus=CranCorpus(\"C:/Users/pc/Documents/programming/RI_TP/Datasets/Cran/cran.all.1400\")\n",
    "indexer=Indexer(corpus)"
   ]
  },
  {
   "cell_type": "code",
   "execution_count": 17,
   "metadata": {},
   "outputs": [],
   "source": [
    "#indexer=Indexer(file_name='indexer01.pkl')\n",
    "indexer.save('indexer01.pkl')"
   ]
  },
  {
   "cell_type": "code",
   "execution_count": 18,
   "metadata": {},
   "outputs": [],
   "source": [
    "query_corpus=CranQueryCorpus(\"C:/Users/pc/Documents/programming/RI_TP/Datasets/Cran/cran.qry\")"
   ]
  },
  {
   "cell_type": "code",
   "execution_count": 93,
   "metadata": {},
   "outputs": [
    {
     "data": {
      "text/plain": [
       "'car'"
      ]
     },
     "execution_count": 93,
     "metadata": {},
     "output_type": "execute_result"
    }
   ],
   "source": [
    "spell('caaar')"
   ]
  },
  {
   "cell_type": "code",
   "execution_count": 88,
   "metadata": {},
   "outputs": [
    {
     "data": {
      "text/plain": [
       "'what chemical kinetic system is applicable to hyperbolic aerodynamicproblems .'"
      ]
     },
     "execution_count": 88,
     "metadata": {},
     "output_type": "execute_result"
    }
   ],
   "source": [
    "spell(query_corpus[4]['text'])"
   ]
  },
  {
   "cell_type": "code",
   "execution_count": 82,
   "metadata": {},
   "outputs": [],
   "source": [
    "def get_documents_for_query(query):\n",
    "    similaritys=indexer.get_docs_with_jaccard_01(query)\n",
    "    similaritys_idx=np.flip(np.argsort(similaritys))\n",
    "    res=similaritys_idx[similaritys[similaritys_idx]>0.05]\n",
    "    print(\"Query :\",query)\n",
    "    for idx in res:\n",
    "        print('     ',corpus[idx]['idx'],': ',corpus[idx]['title'])\n"
   ]
  },
  {
   "cell_type": "code",
   "execution_count": 83,
   "metadata": {},
   "outputs": [
    {
     "name": "stdout",
     "output_type": "stream",
     "text": [
      "Query : what chemical kinetic system is applicable to hypersonic aerodynamicproblems .\n",
      "      103 :  theory of mixing and chemical reaction in the opposedjet diffusion flame .\n",
      "      1032 :  on the conservativeness of various distributed force systems .\n",
      "      401 :  inviscid hypersonic airflows with coupled non-equilibriumprocesses .\n",
      "      943 :  compressible free shear layer with finite initial thickness .\n",
      "      552 :  chemical kinetics of high temperature air .\n",
      "      367 :  control system and analysis and design via the second method oflyapunov .\n",
      "      1102 :  a five-stage solid fuel sounding rocket system .\n",
      "      1374 :  theoretical analysis of turbulent mixing of reactivegases with application to supersonic combustion ofhydrogen .\n",
      "      968 :  rocket propulsion systems for interplanetary flight .\n"
     ]
    }
   ],
   "source": [
    "get_documents_for_query(query_corpus[4]['text'])"
   ]
  },
  {
   "cell_type": "code",
   "execution_count": 55,
   "metadata": {},
   "outputs": [
    {
     "data": {
      "text/plain": [
       "array([0.45253475, 0.28494945, 0.19666849, 0.18937192, 0.17349339,\n",
       "       0.17320177, 0.16350901, 0.15664807, 0.06246709, 0.06060188])"
      ]
     },
     "execution_count": 55,
     "metadata": {},
     "output_type": "execute_result"
    }
   ],
   "source": [
    "similaritys[np.flip(np.argsort(similaritys))[:10]]"
   ]
  },
  {
   "cell_type": "code",
   "execution_count": 27,
   "metadata": {},
   "outputs": [
    {
     "data": {
      "text/plain": [
       "array([0.12139688, 0.11196342, 0.10301708, ..., 0.        , 0.        ,\n",
       "       0.        ])"
      ]
     },
     "execution_count": 27,
     "metadata": {},
     "output_type": "execute_result"
    }
   ],
   "source": [
    "np.flip(np.sort(similaritys))"
   ]
  },
  {
   "cell_type": "code",
   "execution_count": 60,
   "metadata": {},
   "outputs": [
    {
     "data": {
      "text/plain": [
       "1.2168591867434255"
      ]
     },
     "execution_count": 60,
     "metadata": {},
     "output_type": "execute_result"
    }
   ],
   "source": [
    "(indexer.index(query_corpus[0]['text'],binary=False)**2).sum()"
   ]
  },
  {
   "cell_type": "code",
   "execution_count": 13,
   "metadata": {},
   "outputs": [],
   "source": [
    "q=indexer.index(query_corpus[0]['text'],binary=False)\n",
    "\n",
    "c=np.repeat([q],indexer.get_tf_idf().shape[0],axis=0)*indexer.get_tf_idf()"
   ]
  },
  {
   "cell_type": "code",
   "execution_count": 17,
   "metadata": {},
   "outputs": [
    {
     "data": {
      "text/plain": [
       "0"
      ]
     },
     "execution_count": 17,
     "metadata": {},
     "output_type": "execute_result"
    }
   ],
   "source": [
    "np.count_nonzero(c==np.nan)"
   ]
  },
  {
   "cell_type": "code",
   "execution_count": 13,
   "metadata": {},
   "outputs": [
    {
     "ename": "AttributeError",
     "evalue": "'Indexer' object has no attribute 'words_in_doc'",
     "output_type": "error",
     "traceback": [
      "\u001b[1;31m---------------------------------------------------------------------------\u001b[0m",
      "\u001b[1;31mAttributeError\u001b[0m                            Traceback (most recent call last)",
      "\u001b[1;32m~\\AppData\\Local\\Temp/ipykernel_6820/64637415.py\u001b[0m in \u001b[0;36m<module>\u001b[1;34m\u001b[0m\n\u001b[1;32m----> 1\u001b[1;33m \u001b[1;33m(\u001b[0m\u001b[0mindexer\u001b[0m\u001b[1;33m.\u001b[0m\u001b[0mterm_frequencys\u001b[0m \u001b[1;33m/\u001b[0m \u001b[0mindexer\u001b[0m\u001b[1;33m.\u001b[0m\u001b[0mwords_in_doc\u001b[0m\u001b[1;33m[\u001b[0m\u001b[1;33m:\u001b[0m\u001b[1;33m,\u001b[0m\u001b[1;32mNone\u001b[0m\u001b[1;33m]\u001b[0m\u001b[1;33m)\u001b[0m \u001b[1;33m*\u001b[0m \u001b[0mnp\u001b[0m\u001b[1;33m.\u001b[0m\u001b[0mlog\u001b[0m\u001b[1;33m(\u001b[0m\u001b[0mindexer\u001b[0m\u001b[1;33m.\u001b[0m\u001b[0mterm_frequencys\u001b[0m\u001b[1;33m.\u001b[0m\u001b[0mshape\u001b[0m\u001b[1;33m[\u001b[0m\u001b[1;36m0\u001b[0m\u001b[1;33m]\u001b[0m \u001b[1;33m/\u001b[0m \u001b[0mindexer\u001b[0m\u001b[1;33m.\u001b[0m\u001b[0mnb_docs_with_word\u001b[0m\u001b[1;33m)\u001b[0m\u001b[1;33m\u001b[0m\u001b[1;33m\u001b[0m\u001b[0m\n\u001b[0m",
      "\u001b[1;31mAttributeError\u001b[0m: 'Indexer' object has no attribute 'words_in_doc'"
     ]
    }
   ],
   "source": [
    "(indexer.term_frequencys / indexer.words_in_doc[:,None]) * np.log(indexer.term_frequencys.shape[0] / indexer.nb_docs_with_word)"
   ]
  },
  {
   "cell_type": "code",
   "execution_count": 14,
   "metadata": {},
   "outputs": [
    {
     "ename": "AttributeError",
     "evalue": "'Indexer' object has no attribute 'words_in_doc'",
     "output_type": "error",
     "traceback": [
      "\u001b[1;31m---------------------------------------------------------------------------\u001b[0m",
      "\u001b[1;31mAttributeError\u001b[0m                            Traceback (most recent call last)",
      "\u001b[1;32m~\\AppData\\Local\\Temp/ipykernel_6820/1773274101.py\u001b[0m in \u001b[0;36m<module>\u001b[1;34m\u001b[0m\n\u001b[1;32m----> 1\u001b[1;33m \u001b[0mnp\u001b[0m\u001b[1;33m.\u001b[0m\u001b[0mcount_nonzero\u001b[0m\u001b[1;33m(\u001b[0m\u001b[0mnp\u001b[0m\u001b[1;33m.\u001b[0m\u001b[0misnan\u001b[0m\u001b[1;33m(\u001b[0m\u001b[1;33m(\u001b[0m\u001b[0mindexer\u001b[0m\u001b[1;33m.\u001b[0m\u001b[0mterm_frequencys\u001b[0m \u001b[1;33m/\u001b[0m \u001b[0mindexer\u001b[0m\u001b[1;33m.\u001b[0m\u001b[0mwords_in_doc\u001b[0m\u001b[1;33m[\u001b[0m\u001b[1;33m:\u001b[0m\u001b[1;33m,\u001b[0m\u001b[1;32mNone\u001b[0m\u001b[1;33m]\u001b[0m\u001b[1;33m)\u001b[0m\u001b[1;33m)\u001b[0m\u001b[1;33m)\u001b[0m\u001b[1;33m\u001b[0m\u001b[1;33m\u001b[0m\u001b[0m\n\u001b[0m",
      "\u001b[1;31mAttributeError\u001b[0m: 'Indexer' object has no attribute 'words_in_doc'"
     ]
    }
   ],
   "source": [
    "np.count_nonzero(np.isnan((indexer.term_frequencys / indexer.words_in_doc[:,None])))"
   ]
  },
  {
   "cell_type": "code",
   "execution_count": 40,
   "metadata": {},
   "outputs": [
    {
     "data": {
      "text/plain": [
       "(array([470, 994], dtype=int64),)"
      ]
     },
     "execution_count": 40,
     "metadata": {},
     "output_type": "execute_result"
    }
   ],
   "source": [
    "np.where(indexer.words_in_doc==0)"
   ]
  },
  {
   "cell_type": "code",
   "execution_count": 43,
   "metadata": {},
   "outputs": [
    {
     "data": {
      "text/plain": [
       "{'idx': 995, 'title': '', 'author': '', 'bib': '', 'text': ''}"
      ]
     },
     "execution_count": 43,
     "metadata": {},
     "output_type": "execute_result"
    }
   ],
   "source": [
    "corpus[994]"
   ]
  }
 ],
 "metadata": {
  "kernelspec": {
   "display_name": "Python 3.10.5 64-bit",
   "language": "python",
   "name": "python3"
  },
  "language_info": {
   "codemirror_mode": {
    "name": "ipython",
    "version": 3
   },
   "file_extension": ".py",
   "mimetype": "text/x-python",
   "name": "python",
   "nbconvert_exporter": "python",
   "pygments_lexer": "ipython3",
   "version": "3.10.5"
  },
  "orig_nbformat": 4,
  "vscode": {
   "interpreter": {
    "hash": "67e0cbc25fa4f5baaacba1240f401bc655b640f8e15cfc935dfee2e63491bdf4"
   }
  }
 },
 "nbformat": 4,
 "nbformat_minor": 2
}
